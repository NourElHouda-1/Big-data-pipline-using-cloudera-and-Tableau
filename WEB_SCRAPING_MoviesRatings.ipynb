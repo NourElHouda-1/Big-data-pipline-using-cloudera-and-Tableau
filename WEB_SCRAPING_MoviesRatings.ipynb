{
  "nbformat": 4,
  "nbformat_minor": 0,
  "metadata": {
    "colab": {
      "name": "WEB SCRAPING_MoviesRatings.ipynb",
      "provenance": []
    },
    "kernelspec": {
      "name": "python3",
      "display_name": "Python 3"
    }
  },
  "cells": [
    {
      "cell_type": "code",
      "metadata": {
        "id": "MQthz7-tVrb9"
      },
      "source": [
        "from requests import get\n",
        "from bs4 import BeautifulSoup\n",
        "from time import sleep\n",
        "from random import randint\n",
        "from time import time\n",
        "from IPython.display import clear_output\n",
        "import pandas as pd\n",
        "# Modification liée au changement de structure de l'url de recherche\n",
        "# L'url n'est plus classée par page mais par premier élément\n",
        "# Chaque page de recherche contient toujours 50 films\n",
        "# Donc voici le nouvel url de recherche avec first_film qui prendra les valeurs 1, 51, 101,...:\n",
        "# 'http://www.imdb.com/search/title?release_date='+ year_url +'&sort=num_votes,desc&start='+ start\n",
        " "
      ],
      "execution_count": null,
      "outputs": []
    },
    {
      "cell_type": "code",
      "metadata": {
        "id": "T-4NXvKnWGk1"
      },
      "source": [
        "starts = [str(i) for i in range(1,201,50)]\n",
        "years_url = [str(i) for i in range(2000,2020)]"
      ],
      "execution_count": null,
      "outputs": []
    },
    {
      "cell_type": "code",
      "metadata": {
        "id": "n2BlINoiWHY0"
      },
      "source": [
        "# 1. Redéclarer les listes\n",
        "names = []\n",
        "years = []\n",
        "imdb_ratings =[]\n",
        "metascores = []\n",
        "votes = []"
      ],
      "execution_count": null,
      "outputs": []
    },
    {
      "cell_type": "code",
      "metadata": {
        "id": "V87pul12XUQt"
      },
      "source": [
        "# 2. préparer l'affichage des boucles\n",
        "start_time = time()\n",
        "requests = 0"
      ],
      "execution_count": null,
      "outputs": []
    },
    {
      "cell_type": "code",
      "metadata": {
        "colab": {
          "base_uri": "https://localhost:8080/",
          "height": 231
        },
        "id": "maWlr96vWOXi",
        "outputId": "dd2bd765-6d71-4fa4-e91a-ef489c4172b9"
      },
      "source": [
        "# 3. Pour chaque année de l'intervalle 2000-2017\n",
        "for year_url in years_url:\n",
        "    \n",
        "    # 4. boucle sur starts contenant les premiers films des pages de 1 à 4\n",
        "    for start in starts:\n",
        "        \n",
        "        # 5. Faire une requête GET\n",
        "        response = get('http://www.imdb.com/search/title?release_date='+ year_url +'&sort=num_votes,desc&start='+ start)\n",
        "        \n",
        "        # 6. Pause la boucle de 8 à 15 secondes\n",
        "        sleep(randint(8,15))\n",
        "        \n",
        "        # 7. Afficher les informations sur les requêtes\n",
        "        requests += 1\n",
        "        elapsed_time = time() - start_time\n",
        "        print('Request: {}; Frequency: {} requests/s'.format(requests, requests/elapsed_time))\n",
        "        clear_output(wait = True)\n",
        "        \n",
        "        # 8. Avertir si le code status est différent de 200\n",
        "        if response.status_code != 200:\n",
        "            warn('Request: {}; Status code: {}'.format(requests, response.status_code))\n",
        "            \n",
        "        # 9. Stopper la boucle si le nombre de requêtes est supérieur à 72\n",
        "        if requests > 72:\n",
        "            warn('Nombre de requêtes trop important')\n",
        "            break\n",
        "            \n",
        "        # 10. Extraire le HTML avec BeautifulSoup\n",
        "        page_html = BeautifulSoup(response.text, 'html.parser')\n",
        "        \n",
        "        # 11. Sélectionner les 50 films de chaque page (container)\n",
        "        mv_containers = page_html.find_all('div', class_=\"lister-item mode-advanced\")\n",
        "        \n",
        "        # 12. Boucle pour chaque container\n",
        "        for container in mv_containers:\n",
        "            # 13. Si le film a un Metascore\n",
        "            if container.find('div', class_='ratings-metascore') is not None:\n",
        "                \n",
        "                # 14. scrape le titre\n",
        "                name = container.h3.a.text\n",
        "                names.append(name)\n",
        "                \n",
        "                #15. scrape l'année\n",
        "                year = container.h3.find('span', class_='lister-item-year').text\n",
        "                years.append(year)\n",
        "                \n",
        "                #16. scrape la note IMDB\n",
        "                imdb = float(container.strong.text)\n",
        "                imdb_ratings.append(imdb)\n",
        "                \n",
        "                #17. scrape le Metascore\n",
        "                metascore = container.find('span', class_='metascore').text\n",
        "                metascores.append(int(metascore))\n",
        "                \n",
        "                #18. scrape le nombre de votes\n",
        "                vote = container.find('span', attrs = {'name':'nv'})['data-value']\n",
        "                votes.append(int(vote))\n",
        " \n"
      ],
      "execution_count": null,
      "outputs": [
        {
          "output_type": "error",
          "ename": "NameError",
          "evalue": "ignored",
          "traceback": [
            "\u001b[0;31m---------------------------------------------------------------------------\u001b[0m",
            "\u001b[0;31mNameError\u001b[0m                                 Traceback (most recent call last)",
            "\u001b[0;32m<ipython-input-7-b3c6fcc4a269>\u001b[0m in \u001b[0;36m<module>\u001b[0;34m()\u001b[0m\n\u001b[1;32m     23\u001b[0m         \u001b[0;31m# 9. Stopper la boucle si le nombre de requêtes est supérieur à 72\u001b[0m\u001b[0;34m\u001b[0m\u001b[0;34m\u001b[0m\u001b[0;34m\u001b[0m\u001b[0m\n\u001b[1;32m     24\u001b[0m         \u001b[0;32mif\u001b[0m \u001b[0mrequests\u001b[0m \u001b[0;34m>\u001b[0m \u001b[0;36m72\u001b[0m\u001b[0;34m:\u001b[0m\u001b[0;34m\u001b[0m\u001b[0;34m\u001b[0m\u001b[0m\n\u001b[0;32m---> 25\u001b[0;31m             \u001b[0mwarn\u001b[0m\u001b[0;34m(\u001b[0m\u001b[0;34m'Nombre de requêtes trop important'\u001b[0m\u001b[0;34m)\u001b[0m\u001b[0;34m\u001b[0m\u001b[0;34m\u001b[0m\u001b[0m\n\u001b[0m\u001b[1;32m     26\u001b[0m             \u001b[0;32mbreak\u001b[0m\u001b[0;34m\u001b[0m\u001b[0;34m\u001b[0m\u001b[0m\n\u001b[1;32m     27\u001b[0m \u001b[0;34m\u001b[0m\u001b[0m\n",
            "\u001b[0;31mNameError\u001b[0m: name 'warn' is not defined"
          ]
        }
      ]
    },
    {
      "cell_type": "code",
      "metadata": {
        "colab": {
          "base_uri": "https://localhost:8080/",
          "height": 419
        },
        "id": "Mg8YyNd8WYTV",
        "outputId": "3e22eabb-b344-4454-9d2e-cf0b7acd77b3"
      },
      "source": [
        "# Afficher les 100 premiers films dans un DataFrame\n",
        "movie_ratings = pd.DataFrame({\n",
        "        'movie': names,\n",
        "        'year': years,\n",
        "        'imdb': imdb_ratings,\n",
        "        'metascore': metascores,\n",
        "        'votes': votes\n",
        "    })\n",
        " \n",
        "movie_ratings.head(100)\n"
      ],
      "execution_count": null,
      "outputs": [
        {
          "output_type": "execute_result",
          "data": {
            "text/html": [
              "<div>\n",
              "<style scoped>\n",
              "    .dataframe tbody tr th:only-of-type {\n",
              "        vertical-align: middle;\n",
              "    }\n",
              "\n",
              "    .dataframe tbody tr th {\n",
              "        vertical-align: top;\n",
              "    }\n",
              "\n",
              "    .dataframe thead th {\n",
              "        text-align: right;\n",
              "    }\n",
              "</style>\n",
              "<table border=\"1\" class=\"dataframe\">\n",
              "  <thead>\n",
              "    <tr style=\"text-align: right;\">\n",
              "      <th></th>\n",
              "      <th>movie</th>\n",
              "      <th>year</th>\n",
              "      <th>imdb</th>\n",
              "      <th>metascore</th>\n",
              "      <th>votes</th>\n",
              "    </tr>\n",
              "  </thead>\n",
              "  <tbody>\n",
              "    <tr>\n",
              "      <th>0</th>\n",
              "      <td>Gladiator</td>\n",
              "      <td>(2000)</td>\n",
              "      <td>8.5</td>\n",
              "      <td>67</td>\n",
              "      <td>1328111</td>\n",
              "    </tr>\n",
              "    <tr>\n",
              "      <th>1</th>\n",
              "      <td>Memento</td>\n",
              "      <td>(2000)</td>\n",
              "      <td>8.4</td>\n",
              "      <td>80</td>\n",
              "      <td>1115662</td>\n",
              "    </tr>\n",
              "    <tr>\n",
              "      <th>2</th>\n",
              "      <td>Snatch</td>\n",
              "      <td>(2000)</td>\n",
              "      <td>8.3</td>\n",
              "      <td>55</td>\n",
              "      <td>775685</td>\n",
              "    </tr>\n",
              "    <tr>\n",
              "      <th>3</th>\n",
              "      <td>Requiem for a Dream</td>\n",
              "      <td>(2000)</td>\n",
              "      <td>8.3</td>\n",
              "      <td>68</td>\n",
              "      <td>759915</td>\n",
              "    </tr>\n",
              "    <tr>\n",
              "      <th>4</th>\n",
              "      <td>X-Men</td>\n",
              "      <td>(2000)</td>\n",
              "      <td>7.4</td>\n",
              "      <td>64</td>\n",
              "      <td>567325</td>\n",
              "    </tr>\n",
              "    <tr>\n",
              "      <th>...</th>\n",
              "      <td>...</td>\n",
              "      <td>...</td>\n",
              "      <td>...</td>\n",
              "      <td>...</td>\n",
              "      <td>...</td>\n",
              "    </tr>\n",
              "    <tr>\n",
              "      <th>95</th>\n",
              "      <td>Get Carter</td>\n",
              "      <td>(2000)</td>\n",
              "      <td>5.2</td>\n",
              "      <td>24</td>\n",
              "      <td>32493</td>\n",
              "    </tr>\n",
              "    <tr>\n",
              "      <th>96</th>\n",
              "      <td>Dracula 2000</td>\n",
              "      <td>(2000)</td>\n",
              "      <td>4.9</td>\n",
              "      <td>26</td>\n",
              "      <td>31925</td>\n",
              "    </tr>\n",
              "    <tr>\n",
              "      <th>97</th>\n",
              "      <td>Dungeons &amp; Dragons</td>\n",
              "      <td>(2000)</td>\n",
              "      <td>3.6</td>\n",
              "      <td>14</td>\n",
              "      <td>31866</td>\n",
              "    </tr>\n",
              "    <tr>\n",
              "      <th>98</th>\n",
              "      <td>The Way of the Gun</td>\n",
              "      <td>(2000)</td>\n",
              "      <td>6.7</td>\n",
              "      <td>49</td>\n",
              "      <td>31681</td>\n",
              "    </tr>\n",
              "    <tr>\n",
              "      <th>99</th>\n",
              "      <td>Where the Heart Is</td>\n",
              "      <td>(2000)</td>\n",
              "      <td>6.8</td>\n",
              "      <td>30</td>\n",
              "      <td>31577</td>\n",
              "    </tr>\n",
              "  </tbody>\n",
              "</table>\n",
              "<p>100 rows × 5 columns</p>\n",
              "</div>"
            ],
            "text/plain": [
              "                  movie    year  imdb  metascore    votes\n",
              "0             Gladiator  (2000)   8.5         67  1328111\n",
              "1               Memento  (2000)   8.4         80  1115662\n",
              "2                Snatch  (2000)   8.3         55   775685\n",
              "3   Requiem for a Dream  (2000)   8.3         68   759915\n",
              "4                 X-Men  (2000)   7.4         64   567325\n",
              "..                  ...     ...   ...        ...      ...\n",
              "95           Get Carter  (2000)   5.2         24    32493\n",
              "96         Dracula 2000  (2000)   4.9         26    31925\n",
              "97   Dungeons & Dragons  (2000)   3.6         14    31866\n",
              "98   The Way of the Gun  (2000)   6.7         49    31681\n",
              "99   Where the Heart Is  (2000)   6.8         30    31577\n",
              "\n",
              "[100 rows x 5 columns]"
            ]
          },
          "metadata": {
            "tags": []
          },
          "execution_count": 9
        }
      ]
    },
    {
      "cell_type": "code",
      "metadata": {
        "colab": {
          "base_uri": "https://localhost:8080/"
        },
        "id": "7kS54Rf3mywj",
        "outputId": "e0680a73-415d-4e52-c6f9-fcf4ada0a236"
      },
      "source": [
        "print(movie_ratings.info())"
      ],
      "execution_count": null,
      "outputs": [
        {
          "output_type": "stream",
          "text": [
            "<class 'pandas.core.frame.DataFrame'>\n",
            "RangeIndex: 2932 entries, 0 to 2931\n",
            "Data columns (total 5 columns):\n",
            " #   Column     Non-Null Count  Dtype  \n",
            "---  ------     --------------  -----  \n",
            " 0   movie      2932 non-null   object \n",
            " 1   year       2932 non-null   object \n",
            " 2   imdb       2932 non-null   float64\n",
            " 3   metascore  2932 non-null   int64  \n",
            " 4   votes      2932 non-null   int64  \n",
            "dtypes: float64(1), int64(2), object(2)\n",
            "memory usage: 114.7+ KB\n",
            "None\n"
          ],
          "name": "stdout"
        }
      ]
    },
    {
      "cell_type": "code",
      "metadata": {
        "id": "ZHKUnfxEcUY1"
      },
      "source": [
        "import csv\n",
        "#Export Pandas DataFrame to a CSV \n",
        "movie_ratings.to_csv(r'C:\\Users\\21698\\Desktop\\Work\\movie_ratings.csv',sep=\",\",index = False, header=True)\n"
      ],
      "execution_count": null,
      "outputs": []
    }
  ]
}